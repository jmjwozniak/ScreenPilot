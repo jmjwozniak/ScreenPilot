{
 "cells": [
  {
   "cell_type": "code",
   "execution_count": 1,
   "metadata": {},
   "outputs": [
    {
     "name": "stderr",
     "output_type": "stream",
     "text": [
      "Using Theano backend.\n",
      "/home/yadu/miniconda3/envs/ian_pipeline/lib/python3.6/site-packages/tensorflow/python/framework/dtypes.py:523: FutureWarning: Passing (type, 1) or '1type' as a synonym of type is deprecated; in a future version of numpy, it will be understood as (type, (1,)) / '(1,)type'.\n",
      "  _np_qint8 = np.dtype([(\"qint8\", np.int8, 1)])\n",
      "/home/yadu/miniconda3/envs/ian_pipeline/lib/python3.6/site-packages/tensorflow/python/framework/dtypes.py:524: FutureWarning: Passing (type, 1) or '1type' as a synonym of type is deprecated; in a future version of numpy, it will be understood as (type, (1,)) / '(1,)type'.\n",
      "  _np_quint8 = np.dtype([(\"quint8\", np.uint8, 1)])\n",
      "/home/yadu/miniconda3/envs/ian_pipeline/lib/python3.6/site-packages/tensorflow/python/framework/dtypes.py:525: FutureWarning: Passing (type, 1) or '1type' as a synonym of type is deprecated; in a future version of numpy, it will be understood as (type, (1,)) / '(1,)type'.\n",
      "  _np_qint16 = np.dtype([(\"qint16\", np.int16, 1)])\n",
      "/home/yadu/miniconda3/envs/ian_pipeline/lib/python3.6/site-packages/tensorflow/python/framework/dtypes.py:526: FutureWarning: Passing (type, 1) or '1type' as a synonym of type is deprecated; in a future version of numpy, it will be understood as (type, (1,)) / '(1,)type'.\n",
      "  _np_quint16 = np.dtype([(\"quint16\", np.uint16, 1)])\n",
      "/home/yadu/miniconda3/envs/ian_pipeline/lib/python3.6/site-packages/tensorflow/python/framework/dtypes.py:527: FutureWarning: Passing (type, 1) or '1type' as a synonym of type is deprecated; in a future version of numpy, it will be understood as (type, (1,)) / '(1,)type'.\n",
      "  _np_qint32 = np.dtype([(\"qint32\", np.int32, 1)])\n",
      "/home/yadu/miniconda3/envs/ian_pipeline/lib/python3.6/site-packages/tensorflow/python/framework/dtypes.py:532: FutureWarning: Passing (type, 1) or '1type' as a synonym of type is deprecated; in a future version of numpy, it will be understood as (type, (1,)) / '(1,)type'.\n",
      "  np_resource = np.dtype([(\"resource\", np.ubyte, 1)])\n"
     ]
    }
   ],
   "source": [
    "import pandas as pd\n",
    "import keras\n",
    "import numpy as np\n",
    "import time"
   ]
  },
  {
   "cell_type": "markdown",
   "metadata": {},
   "source": [
    "### Parsl backend init\n",
    "\n",
    "Here we load a barebones remote execution backend for parsl to form a decent baseline that includes all the costs of remote function instantiation."
   ]
  },
  {
   "cell_type": "code",
   "execution_count": 2,
   "metadata": {},
   "outputs": [
    {
     "data": {
      "text/plain": [
       "<parsl.dataflow.dflow.DataFlowKernel at 0x7f5318979780>"
      ]
     },
     "execution_count": 2,
     "metadata": {},
     "output_type": "execute_result"
    }
   ],
   "source": [
    "import parsl\n",
    "from parsl import python_app\n",
    "from parsl.configs.htex_local import config\n",
    "parsl.load(config)"
   ]
  },
  {
   "cell_type": "code",
   "execution_count": 3,
   "metadata": {},
   "outputs": [],
   "source": [
    "# We do not need this import here, but we should ideally be loading all the apps from a separate\n",
    "# module\n",
    "import main"
   ]
  },
  {
   "cell_type": "code",
   "execution_count": 4,
   "metadata": {},
   "outputs": [
    {
     "name": "stdout",
     "output_type": "stream",
     "text": [
      "Loading all data available\n",
      "Total of 1584 available\n"
     ]
    }
   ],
   "source": [
    "print(\"Loading all data available\")\n",
    "smiles = pd.read_csv(\"train.csv\", nrows=1584).iloc[:,0].tolist()\n",
    "print(\"Total of {} available\".format(len(smiles)))"
   ]
  },
  {
   "cell_type": "code",
   "execution_count": 5,
   "metadata": {},
   "outputs": [],
   "source": [
    "@python_app\n",
    "def app_compute_descript_batches(smile_list):\n",
    "    \"\"\" Takes a list of smiles and returns a corresponding list of descs.\n",
    "    \"\"\"\n",
    "    from mordred import Calculator, descriptors\n",
    "    from rdkit import Chem\n",
    "    import numpy as np\n",
    "    import pickle\n",
    "    # this object doesn't need to be created everytime. Can make global I think?                                                                                                                                    \n",
    "    calc = Calculator(descriptors, ignore_3D=True)\n",
    "\n",
    "    results_list = []\n",
    "    for smile in smile_list:\n",
    "        #read smiles                                                                                                                                                                                                    \n",
    "        mol = Chem.MolFromSmiles(smile)\n",
    "        if mol is None:\n",
    "            print(\"Error processing mol\")\n",
    "            result = None\n",
    "        else:\n",
    "            descs = calc(mol)\n",
    "            result = pickle.dumps(np.array(descs).flatten().astype(np.float32))\n",
    "            \n",
    "        results_list.append(result)\n",
    "\n",
    "    return results_list"
   ]
  },
  {
   "cell_type": "code",
   "execution_count": 7,
   "metadata": {},
   "outputs": [],
   "source": [
    "chunksize = 100\n",
    "proc_chunks = {}\n",
    "\n",
    "for i in range(1, len(smiles), chunksize):    \n",
    "    chunk = smiles[i:i+chunksize]\n",
    "    r = app_compute_descript_batches(chunk)\n",
    "    proc_chunks[i] = r        "
   ]
  },
  {
   "cell_type": "code",
   "execution_count": 8,
   "metadata": {},
   "outputs": [
    {
     "name": "stdout",
     "output_type": "stream",
     "text": [
      "{1: <AppFuture super=<AppFuture at 0x7f53140b3c18 state=pending>>, 101: <AppFuture super=<AppFuture at 0x7f53140b3a20 state=pending>>, 201: <AppFuture super=<AppFuture at 0x7f53140b3908 state=pending>>, 301: <AppFuture super=<AppFuture at 0x7f53140b3da0 state=pending>>, 401: <AppFuture super=<AppFuture at 0x7f53140b3fd0 state=pending>>, 501: <AppFuture super=<AppFuture at 0x7f5359597358 state=pending>>, 601: <AppFuture super=<AppFuture at 0x7f5314067128 state=pending>>, 701: <AppFuture super=<AppFuture at 0x7f5314067240 state=pending>>, 801: <AppFuture super=<AppFuture at 0x7f53140672b0 state=pending>>, 901: <AppFuture super=<AppFuture at 0x7f53140673c8 state=pending>>, 1001: <AppFuture super=<AppFuture at 0x7f5314067518 state=pending>>, 1101: <AppFuture super=<AppFuture at 0x7f5314067668 state=pending>>, 1201: <AppFuture super=<AppFuture at 0x7f53140677b8 state=pending>>, 1301: <AppFuture super=<AppFuture at 0x7f5314067908 state=pending>>, 1401: <AppFuture super=<AppFuture at 0x7f5314067a58 state=pending>>, 1501: <AppFuture super=<AppFuture at 0x7f5314067ba8 state=pending>>}\n"
     ]
    }
   ],
   "source": [
    "print(proc_chunks)"
   ]
  },
  {
   "cell_type": "code",
   "execution_count": null,
   "metadata": {},
   "outputs": [],
   "source": []
  },
  {
   "cell_type": "code",
   "execution_count": null,
   "metadata": {},
   "outputs": [],
   "source": [
    "# Let's first time the cost of running num_items_to_load in sequence\n",
    "start = time.time()\n",
    "all_results = []\n",
    "for smile in smiles:\n",
    "    r = compute_descript(smile)\n",
    "    all_results.append(r)\n",
    "    \n",
    "delta = time.time() - start\n",
    "print(f\"Seconds elapsed : {delta}\")"
   ]
  },
  {
   "cell_type": "code",
   "execution_count": null,
   "metadata": {},
   "outputs": [],
   "source": [
    "start = time.time()\n",
    "x = smiles[0]\n",
    "r = compute_descript_batches(smiles)\n",
    "print(\"Completed \", len(r))\n",
    "\n",
    "delta = time.time() - start\n",
    "print(f\"Seconds elapsed : {delta}\")"
   ]
  },
  {
   "cell_type": "code",
   "execution_count": null,
   "metadata": {},
   "outputs": [],
   "source": [
    "# Looks like there's some small gain from batching, this is most likely from avoiding the \n",
    "# module load costs"
   ]
  },
  {
   "cell_type": "code",
   "execution_count": null,
   "metadata": {},
   "outputs": [],
   "source": [
    "start = time.time()\n",
    "x = smiles[0]\n",
    "r = app_compute_descript_batches(smiles).result()\n",
    "\n",
    "print(\"Completed \", len(r))\n",
    "\n",
    "delta = time.time() - start\n",
    "print(f\"Seconds elapsed : {delta}\")"
   ]
  },
  {
   "cell_type": "code",
   "execution_count": null,
   "metadata": {},
   "outputs": [],
   "source": [
    "# Cost of shipping serialized buffers appears to only add a ~4% overhead"
   ]
  }
 ],
 "metadata": {
  "kernelspec": {
   "display_name": "Python 3",
   "language": "python",
   "name": "python3"
  },
  "language_info": {
   "codemirror_mode": {
    "name": "ipython",
    "version": 3
   },
   "file_extension": ".py",
   "mimetype": "text/x-python",
   "name": "python",
   "nbconvert_exporter": "python",
   "pygments_lexer": "ipython3",
   "version": "3.6.7"
  }
 },
 "nbformat": 4,
 "nbformat_minor": 2
}
