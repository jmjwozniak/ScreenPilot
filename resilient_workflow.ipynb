{
 "cells": [
  {
   "cell_type": "code",
   "execution_count": 1,
   "metadata": {},
   "outputs": [
    {
     "name": "stderr",
     "output_type": "stream",
     "text": [
      "Using Theano backend.\n",
      "/home/yadu/miniconda3/envs/ian_pipeline/lib/python3.6/site-packages/tensorflow/python/framework/dtypes.py:523: FutureWarning: Passing (type, 1) or '1type' as a synonym of type is deprecated; in a future version of numpy, it will be understood as (type, (1,)) / '(1,)type'.\n",
      "  _np_qint8 = np.dtype([(\"qint8\", np.int8, 1)])\n",
      "/home/yadu/miniconda3/envs/ian_pipeline/lib/python3.6/site-packages/tensorflow/python/framework/dtypes.py:524: FutureWarning: Passing (type, 1) or '1type' as a synonym of type is deprecated; in a future version of numpy, it will be understood as (type, (1,)) / '(1,)type'.\n",
      "  _np_quint8 = np.dtype([(\"quint8\", np.uint8, 1)])\n",
      "/home/yadu/miniconda3/envs/ian_pipeline/lib/python3.6/site-packages/tensorflow/python/framework/dtypes.py:525: FutureWarning: Passing (type, 1) or '1type' as a synonym of type is deprecated; in a future version of numpy, it will be understood as (type, (1,)) / '(1,)type'.\n",
      "  _np_qint16 = np.dtype([(\"qint16\", np.int16, 1)])\n",
      "/home/yadu/miniconda3/envs/ian_pipeline/lib/python3.6/site-packages/tensorflow/python/framework/dtypes.py:526: FutureWarning: Passing (type, 1) or '1type' as a synonym of type is deprecated; in a future version of numpy, it will be understood as (type, (1,)) / '(1,)type'.\n",
      "  _np_quint16 = np.dtype([(\"quint16\", np.uint16, 1)])\n",
      "/home/yadu/miniconda3/envs/ian_pipeline/lib/python3.6/site-packages/tensorflow/python/framework/dtypes.py:527: FutureWarning: Passing (type, 1) or '1type' as a synonym of type is deprecated; in a future version of numpy, it will be understood as (type, (1,)) / '(1,)type'.\n",
      "  _np_qint32 = np.dtype([(\"qint32\", np.int32, 1)])\n",
      "/home/yadu/miniconda3/envs/ian_pipeline/lib/python3.6/site-packages/tensorflow/python/framework/dtypes.py:532: FutureWarning: Passing (type, 1) or '1type' as a synonym of type is deprecated; in a future version of numpy, it will be understood as (type, (1,)) / '(1,)type'.\n",
      "  np_resource = np.dtype([(\"resource\", np.ubyte, 1)])\n"
     ]
    }
   ],
   "source": [
    "import pandas as pd\n",
    "import keras\n",
    "import numpy as np\n",
    "import time"
   ]
  },
  {
   "cell_type": "markdown",
   "metadata": {},
   "source": [
    "### Parsl backend init\n",
    "\n",
    "Here we load a barebones remote execution backend for parsl to form a decent baseline that includes all the costs of remote function instantiation."
   ]
  },
  {
   "cell_type": "code",
   "execution_count": 2,
   "metadata": {},
   "outputs": [
    {
     "data": {
      "text/plain": [
       "<parsl.dataflow.dflow.DataFlowKernel at 0x7efcf3991780>"
      ]
     },
     "execution_count": 2,
     "metadata": {},
     "output_type": "execute_result"
    }
   ],
   "source": [
    "import parsl\n",
    "from parsl import python_app\n",
    "from parsl.configs.htex_local import config\n",
    "parsl.load(config)"
   ]
  },
  {
   "cell_type": "code",
   "execution_count": 3,
   "metadata": {},
   "outputs": [],
   "source": [
    "# We do not need this import here, but we should ideally be loading \n",
    "# all the apps from a separate module\n",
    "# import main"
   ]
  },
  {
   "cell_type": "markdown",
   "metadata": {},
   "source": [
    "### Load the Smiles data\n",
    "Here we load only 158 lines from the csv file, to avoid burning the laptop. Once we replace the config\n",
    "with a config for theta, we can load and launch the whole file"
   ]
  },
  {
   "cell_type": "code",
   "execution_count": 4,
   "metadata": {},
   "outputs": [
    {
     "name": "stdout",
     "output_type": "stream",
     "text": [
      "Loading all data available\n",
      "Total of 158 available\n"
     ]
    }
   ],
   "source": [
    "print(\"Loading all data available\")\n",
    "smiles = pd.read_csv(\"train.csv\", nrows=158).iloc[:,0].tolist()\n",
    "print(\"Total of {} available\".format(len(smiles)))"
   ]
  },
  {
   "cell_type": "markdown",
   "metadata": {},
   "source": [
    "### Update descript to process batches\n",
    "\n",
    "We want the descript step to consume batches of smiles to minimize the task launch costs.\n",
    "Here we add a `@python_app` decorator that marks this function for remote/distributed execution.\n",
    "\n",
    "Key point to note is that we add a special `walltime=<int:seconds>` kwarg, that causes the function to raise a `parsl.app.errors.AppTimeout` exception if the function runs beyond the set walltime."
   ]
  },
  {
   "cell_type": "code",
   "execution_count": 5,
   "metadata": {},
   "outputs": [],
   "source": [
    "@python_app\n",
    "def app_compute_descript_batches(smile_list, walltime=1):\n",
    "    \"\"\" Takes a list of smiles and returns a corresponding list of descs.\n",
    "    \"\"\"\n",
    "    from mordred import Calculator, descriptors\n",
    "    from rdkit import Chem\n",
    "    import numpy as np\n",
    "    import pickle\n",
    "    # this object doesn't need to be created everytime. Can make global I think?                                                                                                                                    \n",
    "    calc = Calculator(descriptors, ignore_3D=True)\n",
    "\n",
    "    results_list = []\n",
    "    for smile in smile_list:\n",
    "        #read smiles                                                                                                                                                                                                    \n",
    "        mol = Chem.MolFromSmiles(smile)\n",
    "        if mol is None:\n",
    "            print(\"Error processing mol\")\n",
    "            result = None\n",
    "        else:\n",
    "            descs = calc(mol)\n",
    "            result = pickle.dumps(np.array(descs).flatten().astype(np.float32))\n",
    "            \n",
    "        results_list.append(result)\n",
    "\n",
    "    return results_list"
   ]
  },
  {
   "cell_type": "markdown",
   "metadata": {},
   "source": [
    "### Launch tasks on chunks of data\n",
    "\n",
    "Parsl does batching internally, but we can do better!\n",
    "\n",
    "We have an estimate of the runtime for a batch of N tasks, and we use that to our advantage by creating\n",
    "chunks of \"smiles\" that are dispatched to the now batched, `app_compute_descript_batches` function.\n",
    "\n",
    "`chunksize` is configurable. In a smarter version we could tie `chunksize` and `walltime` together."
   ]
  },
  {
   "cell_type": "code",
   "execution_count": 12,
   "metadata": {},
   "outputs": [],
   "source": [
    "def launch_tasks(data, chunksize=10):\n",
    "    proc_chunks = {}\n",
    "\n",
    "    for i in range(1, len(data), chunksize):    \n",
    "        chunk = data[i:i+chunksize]\n",
    "        r = app_compute_descript_batches(chunk)\n",
    "        proc_chunks[i] = r\n",
    "    return proc_chunks"
   ]
  },
  {
   "cell_type": "code",
   "execution_count": 13,
   "metadata": {},
   "outputs": [],
   "source": [
    "# Initial launch of all tasks\n",
    "proc_chunks = launch_tasks(smiles)"
   ]
  },
  {
   "cell_type": "markdown",
   "metadata": {},
   "source": [
    "### Capture and report messages on failed chunks\n",
    "\n",
    "This is just a demonstration of how batches of smiles that exceed the runtime limits will simply raise a python exception when the \"future\" that represents the batch is asked to produce the result."
   ]
  },
  {
   "cell_type": "code",
   "execution_count": 14,
   "metadata": {},
   "outputs": [
    {
     "name": "stdout",
     "output_type": "stream",
     "text": [
      "Caught timeout for chunk index: 61:71\n",
      "Caught timeout for chunk index: 81:91\n",
      "Caught timeout for chunk index: 91:101\n",
      "Caught timeout for chunk index: 131:141\n",
      "Caught timeout for chunk index: 151:161\n"
     ]
    }
   ],
   "source": [
    "# Wait for the results\n",
    "from parsl.app.errors import AppTimeout\n",
    "\n",
    "for key in proc_chunks:\n",
    "    try:\n",
    "        x = proc_chunks[key].result()\n",
    "    except AppTimeout as e:\n",
    "        print(\"Caught timeout for chunk index: {}:{}\".format(key,key+chunksize))"
   ]
  },
  {
   "cell_type": "code",
   "execution_count": 16,
   "metadata": {},
   "outputs": [
    {
     "name": "stdout",
     "output_type": "stream",
     "text": [
      "{1: <AppFuture super=<AppFuture at 0x7efd2c1345f8 state=finished returned list>>, 11: <AppFuture super=<AppFuture at 0x7efcf00a6898 state=finished returned list>>, 21: <AppFuture super=<AppFuture at 0x7efcf00a65f8 state=finished returned list>>, 31: <AppFuture super=<AppFuture at 0x7efcf00a6cf8 state=finished returned list>>, 41: <AppFuture super=<AppFuture at 0x7efcf00a6eb8 state=finished returned list>>, 51: <AppFuture super=<AppFuture at 0x7efcf00a6ba8 state=finished returned list>>, 61: <AppFuture super=<AppFuture at 0x7efcf003b208 state=finished raised AppTimeout>>, 71: <AppFuture super=<AppFuture at 0x7efcf00a6fd0 state=finished returned list>>, 81: <AppFuture super=<AppFuture at 0x7efcf00a68d0 state=finished raised AppTimeout>>, 91: <AppFuture super=<AppFuture at 0x7efcf003be10 state=finished raised AppTimeout>>, 101: <AppFuture super=<AppFuture at 0x7efcf003bba8 state=finished returned list>>, 111: <AppFuture super=<AppFuture at 0x7efcf003ba20 state=finished returned list>>, 121: <AppFuture super=<AppFuture at 0x7efcf0048d68 state=finished returned list>>, 131: <AppFuture super=<AppFuture at 0x7efcf003bc50 state=finished raised AppTimeout>>, 141: <AppFuture super=<AppFuture at 0x7efcf0048668 state=finished returned list>>, 151: <AppFuture super=<AppFuture at 0x7efcf003b5c0 state=finished raised AppTimeout>>}\n"
     ]
    }
   ],
   "source": [
    "print(proc_chunks)"
   ]
  },
  {
   "cell_type": "markdown",
   "metadata": {},
   "source": [
    "### Handle the failed batches\n",
    "\n",
    "For the failed batches, we call `launch_tasks` again, but in this instance we call it with a `chunksize=1` so that\n",
    "we can pinpoint which `smile` is non-convergent."
   ]
  },
  {
   "cell_type": "code",
   "execution_count": 17,
   "metadata": {},
   "outputs": [
    {
     "name": "stdout",
     "output_type": "stream",
     "text": [
      "Launching unpacked tasks: 61:71\n",
      "Launching unpacked tasks: 81:91\n",
      "Launching unpacked tasks: 91:101\n",
      "Launching unpacked tasks: 131:141\n",
      "Launching unpacked tasks: 151:161\n"
     ]
    }
   ],
   "source": [
    "unpacked = {}\n",
    "for key in proc_chunks:\n",
    "    try:\n",
    "        x = proc_chunks[key].result()\n",
    "    except AppTimeout as e:        \n",
    "        print(\"Launching unpacked tasks: {}:{}\".format(key,key+chunksize))\n",
    "        unpacked[key] = launch_tasks(smiles[key:key+chunksize], chunksize=1)"
   ]
  },
  {
   "cell_type": "markdown",
   "metadata": {},
   "source": [
    "### Display specific smile that failed to terminate"
   ]
  },
  {
   "cell_type": "code",
   "execution_count": 24,
   "metadata": {},
   "outputs": [
    {
     "name": "stdout",
     "output_type": "stream",
     "text": [
      "Peeking inside batch 61:71 ------------\n",
      "   Item 1\n",
      "<AppFuture super=<AppFuture at 0x7efcf0076da0 state=finished returned list>>\n",
      "   Item 2\n",
      "<AppFuture super=<AppFuture at 0x7efce9fa1518 state=finished returned list>>\n",
      "   Item 3\n",
      "<AppFuture super=<AppFuture at 0x7efcf0076ef0 state=finished returned list>>\n",
      "   Item 4\n",
      "<AppFuture super=<AppFuture at 0x7efce9fa1860 state=finished raised AppTimeout>>\n",
      "   Item 5\n",
      "<AppFuture super=<AppFuture at 0x7efce9fa8d68 state=finished returned list>>\n",
      "   Item 6\n",
      "<AppFuture super=<AppFuture at 0x7efcf0076f60 state=finished returned list>>\n",
      "   Item 7\n",
      "<AppFuture super=<AppFuture at 0x7efce9fa8908 state=finished returned list>>\n",
      "   Item 8\n",
      "<AppFuture super=<AppFuture at 0x7efce9fa13c8 state=finished returned list>>\n",
      "   Item 9\n",
      "<AppFuture super=<AppFuture at 0x7efce9fa8ac8 state=finished returned list>>\n",
      "---------------------------------------\n",
      "Peeking inside batch 81:91 ------------\n",
      "   Item 1\n",
      "<AppFuture super=<AppFuture at 0x7efce9fa1908 state=finished returned list>>\n",
      "   Item 2\n",
      "<AppFuture super=<AppFuture at 0x7efce9fb20b8 state=finished returned list>>\n",
      "   Item 3\n",
      "<AppFuture super=<AppFuture at 0x7efce9fa11d0 state=finished returned list>>\n",
      "   Item 4\n",
      "<AppFuture super=<AppFuture at 0x7efce9fb2e10 state=finished returned list>>\n",
      "   Item 5\n",
      "<AppFuture super=<AppFuture at 0x7efce9fa1978 state=finished returned list>>\n",
      "   Item 6\n",
      "<AppFuture super=<AppFuture at 0x7efce9fb2dd8 state=finished returned list>>\n",
      "   Item 7\n",
      "<AppFuture super=<AppFuture at 0x7efce9fa1710 state=finished returned list>>\n",
      "   Item 8\n",
      "<AppFuture super=<AppFuture at 0x7efce9f3f390 state=finished returned list>>\n",
      "   Item 9\n",
      "<AppFuture super=<AppFuture at 0x7efce9fa1a58 state=finished returned list>>\n",
      "---------------------------------------\n",
      "Peeking inside batch 91:101 ------------\n",
      "   Item 1\n",
      "<AppFuture super=<AppFuture at 0x7efce9f3f358 state=finished returned list>>\n",
      "   Item 2\n",
      "<AppFuture super=<AppFuture at 0x7efce9f9d160 state=finished returned list>>\n",
      "   Item 3\n",
      "<AppFuture super=<AppFuture at 0x7efce9f3f668 state=finished returned list>>\n",
      "   Item 4\n",
      "<AppFuture super=<AppFuture at 0x7efce9fa1828 state=finished returned list>>\n",
      "   Item 5\n",
      "<AppFuture super=<AppFuture at 0x7efce9f51ac8 state=finished returned list>>\n",
      "   Item 6\n",
      "<AppFuture super=<AppFuture at 0x7efce9f9d470 state=finished returned list>>\n",
      "   Item 7\n",
      "<AppFuture super=<AppFuture at 0x7efce9f512e8 state=finished returned list>>\n",
      "   Item 8\n",
      "<AppFuture super=<AppFuture at 0x7efce9f9d2b0 state=finished returned list>>\n",
      "   Item 9\n",
      "<AppFuture super=<AppFuture at 0x7efce9f51b38 state=finished returned list>>\n",
      "---------------------------------------\n",
      "Peeking inside batch 131:141 ------------\n",
      "   Item 1\n",
      "<AppFuture super=<AppFuture at 0x7efce9f9d048 state=finished returned list>>\n",
      "   Item 2\n",
      "<AppFuture super=<AppFuture at 0x7efce9f40358 state=finished returned list>>\n",
      "   Item 3\n",
      "<AppFuture super=<AppFuture at 0x7efce9f9d6d8 state=finished returned list>>\n",
      "   Item 4\n",
      "<AppFuture super=<AppFuture at 0x7efce9f40f60 state=finished returned list>>\n",
      "   Item 5\n",
      "<AppFuture super=<AppFuture at 0x7efce9f9d828 state=finished returned list>>\n",
      "   Item 6\n",
      "<AppFuture super=<AppFuture at 0x7efce9f40780 state=finished returned list>>\n",
      "   Item 7\n",
      "<AppFuture super=<AppFuture at 0x7efce9f9d208 state=finished returned list>>\n",
      "   Item 8\n",
      "<AppFuture super=<AppFuture at 0x7efce9f66cc0 state=finished returned list>>\n",
      "   Item 9\n",
      "<AppFuture super=<AppFuture at 0x7efce9f9d3c8 state=finished returned list>>\n",
      "---------------------------------------\n",
      "Peeking inside batch 151:161 ------------\n",
      "   Item 1\n",
      "<AppFuture super=<AppFuture at 0x7efce9f660b8 state=finished returned list>>\n",
      "   Item 2\n",
      "<AppFuture super=<AppFuture at 0x7efce9f9d278 state=finished returned list>>\n",
      "   Item 3\n",
      "<AppFuture super=<AppFuture at 0x7efce9f66588 state=finished returned list>>\n",
      "   Item 4\n",
      "<AppFuture super=<AppFuture at 0x7efce9f9d080 state=finished returned list>>\n",
      "   Item 5\n",
      "<AppFuture super=<AppFuture at 0x7efce9f730b8 state=finished returned list>>\n",
      "   Item 6\n",
      "<AppFuture super=<AppFuture at 0x7efce9fa8cc0 state=finished returned list>>\n",
      "---------------------------------------\n"
     ]
    }
   ],
   "source": [
    "for key in unpacked:\n",
    "    print(\"Peeking inside batch {}:{} ------------\".format(key, key+chunksize))\n",
    "    for item in unpacked[key]:\n",
    "        print(\"   Item {}\".format(item))\n",
    "        print(unpacked[key][item])\n",
    "    print(\"---------------------------------------\")"
   ]
  }
 ],
 "metadata": {
  "kernelspec": {
   "display_name": "Python 3",
   "language": "python",
   "name": "python3"
  },
  "language_info": {
   "codemirror_mode": {
    "name": "ipython",
    "version": 3
   },
   "file_extension": ".py",
   "mimetype": "text/x-python",
   "name": "python",
   "nbconvert_exporter": "python",
   "pygments_lexer": "ipython3",
   "version": "3.6.7"
  }
 },
 "nbformat": 4,
 "nbformat_minor": 2
}
