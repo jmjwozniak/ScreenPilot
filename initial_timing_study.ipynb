{
 "cells": [
  {
   "cell_type": "code",
   "execution_count": 1,
   "metadata": {},
   "outputs": [
    {
     "name": "stderr",
     "output_type": "stream",
     "text": [
      "Using Theano backend.\n",
      "/home/yadu/miniconda3/envs/ian_pipeline/lib/python3.6/site-packages/tensorflow/python/framework/dtypes.py:523: FutureWarning: Passing (type, 1) or '1type' as a synonym of type is deprecated; in a future version of numpy, it will be understood as (type, (1,)) / '(1,)type'.\n",
      "  _np_qint8 = np.dtype([(\"qint8\", np.int8, 1)])\n",
      "/home/yadu/miniconda3/envs/ian_pipeline/lib/python3.6/site-packages/tensorflow/python/framework/dtypes.py:524: FutureWarning: Passing (type, 1) or '1type' as a synonym of type is deprecated; in a future version of numpy, it will be understood as (type, (1,)) / '(1,)type'.\n",
      "  _np_quint8 = np.dtype([(\"quint8\", np.uint8, 1)])\n",
      "/home/yadu/miniconda3/envs/ian_pipeline/lib/python3.6/site-packages/tensorflow/python/framework/dtypes.py:525: FutureWarning: Passing (type, 1) or '1type' as a synonym of type is deprecated; in a future version of numpy, it will be understood as (type, (1,)) / '(1,)type'.\n",
      "  _np_qint16 = np.dtype([(\"qint16\", np.int16, 1)])\n",
      "/home/yadu/miniconda3/envs/ian_pipeline/lib/python3.6/site-packages/tensorflow/python/framework/dtypes.py:526: FutureWarning: Passing (type, 1) or '1type' as a synonym of type is deprecated; in a future version of numpy, it will be understood as (type, (1,)) / '(1,)type'.\n",
      "  _np_quint16 = np.dtype([(\"quint16\", np.uint16, 1)])\n",
      "/home/yadu/miniconda3/envs/ian_pipeline/lib/python3.6/site-packages/tensorflow/python/framework/dtypes.py:527: FutureWarning: Passing (type, 1) or '1type' as a synonym of type is deprecated; in a future version of numpy, it will be understood as (type, (1,)) / '(1,)type'.\n",
      "  _np_qint32 = np.dtype([(\"qint32\", np.int32, 1)])\n",
      "/home/yadu/miniconda3/envs/ian_pipeline/lib/python3.6/site-packages/tensorflow/python/framework/dtypes.py:532: FutureWarning: Passing (type, 1) or '1type' as a synonym of type is deprecated; in a future version of numpy, it will be understood as (type, (1,)) / '(1,)type'.\n",
      "  np_resource = np.dtype([(\"resource\", np.ubyte, 1)])\n"
     ]
    }
   ],
   "source": [
    "import pandas as pd\n",
    "import keras\n",
    "import numpy as np\n",
    "import time"
   ]
  },
  {
   "cell_type": "code",
   "execution_count": 8,
   "metadata": {},
   "outputs": [
    {
     "data": {
      "text/plain": [
       "<parsl.dataflow.dflow.DataFlowKernel at 0x7f92650fad30>"
      ]
     },
     "execution_count": 8,
     "metadata": {},
     "output_type": "execute_result"
    }
   ],
   "source": [
    "import parsl\n",
    "from parsl import python_app\n",
    "from parsl.configs.htex_local import config\n",
    "parsl.load(config)"
   ]
  },
  {
   "cell_type": "code",
   "execution_count": null,
   "metadata": {},
   "outputs": [],
   "source": [
    "import main"
   ]
  },
  {
   "cell_type": "code",
   "execution_count": 2,
   "metadata": {},
   "outputs": [
    {
     "name": "stdout",
     "output_type": "stream",
     "text": [
      "Loading 100 csv items as data\n"
     ]
    }
   ],
   "source": [
    "num_items_to_load = 100\n",
    "print(f\"Loading {num_items_to_load} csv items as data\")\n",
    "smiles = pd.read_csv(\"train.csv\", nrows=num_items_to_load).iloc[:,0].tolist()"
   ]
  },
  {
   "cell_type": "code",
   "execution_count": 3,
   "metadata": {},
   "outputs": [],
   "source": [
    "def compute_descript(smile):\n",
    "    from mordred import Calculator, descriptors\n",
    "    from rdkit import Chem\n",
    "    import numpy as np\n",
    "    # this object doesn't need to be created everytime. Can make global I think?                                                                                                                                    \n",
    "    calc = Calculator(descriptors, ignore_3D=True)\n",
    "\n",
    "    #read smiles                                                                                                                                                                                                    \n",
    "    mol = Chem.MolFromSmiles(smile)\n",
    "    if mol is None:\n",
    "        print(\"Error processing mol\")\n",
    "        return None\n",
    "\n",
    "    descs = calc(mol)\n",
    "\n",
    "    return np.array(descs).flatten().astype(np.float32)\n"
   ]
  },
  {
   "cell_type": "code",
   "execution_count": 10,
   "metadata": {},
   "outputs": [],
   "source": [
    "@python_app\n",
    "def compute_descript_batches(smile_list):\n",
    "    \"\"\" Takes a list of smiles and returns a corresponding list of descs.\n",
    "    \"\"\"\n",
    "    from mordred import Calculator, descriptors\n",
    "    from rdkit import Chem\n",
    "    import numpy as np\n",
    "    import pickle\n",
    "    # this object doesn't need to be created everytime. Can make global I think?                                                                                                                                    \n",
    "    calc = Calculator(descriptors, ignore_3D=True)\n",
    "\n",
    "    results_list = []\n",
    "    for smile in smile_list:\n",
    "        #read smiles                                                                                                                                                                                                    \n",
    "        mol = Chem.MolFromSmiles(smile)\n",
    "        if mol is None:\n",
    "            print(\"Error processing mol\")\n",
    "            result = None\n",
    "        else:\n",
    "            descs = calc(mol)\n",
    "            result = pickle.dumps(np.array(descs).flatten().astype(np.float32))\n",
    "            \n",
    "        results_list.append(result)\n",
    "\n",
    "    return results_list\n",
    "\n",
    "@python_app\n",
    "def app_compute_descript_batches(smile_list):\n",
    "    \"\"\" Takes a list of smiles and returns a corresponding list of descs.\n",
    "    \"\"\"\n",
    "    from mordred import Calculator, descriptors\n",
    "    from rdkit import Chem\n",
    "    import numpy as np\n",
    "    import pickle\n",
    "    # this object doesn't need to be created everytime. Can make global I think?                                                                                                                                    \n",
    "    calc = Calculator(descriptors, ignore_3D=True)\n",
    "\n",
    "    results_list = []\n",
    "    for smile in smile_list:\n",
    "        #read smiles                                                                                                                                                                                                    \n",
    "        mol = Chem.MolFromSmiles(smile)\n",
    "        if mol is None:\n",
    "            print(\"Error processing mol\")\n",
    "            result = None\n",
    "        else:\n",
    "            descs = calc(mol)\n",
    "            result = pickle.dumps(np.array(descs).flatten().astype(np.float32))\n",
    "            \n",
    "        results_list.append(result)\n",
    "\n",
    "    return results_list"
   ]
  },
  {
   "cell_type": "code",
   "execution_count": 4,
   "metadata": {},
   "outputs": [
    {
     "name": "stderr",
     "output_type": "stream",
     "text": [
      "RDKit WARNING: [13:12:56] Enabling RDKit 2019.09.1 jupyter extensions\n"
     ]
    },
    {
     "name": "stdout",
     "output_type": "stream",
     "text": [
      "Seconds elapsed : 29.05618143081665\n"
     ]
    }
   ],
   "source": [
    "# Let's first time the cost of running num_items_to_load in sequence\n",
    "start = time.time()\n",
    "all_results = []\n",
    "for smile in smiles:\n",
    "    r = compute_descript(smile)\n",
    "    all_results.append(r)\n",
    "    \n",
    "delta = time.time() - start\n",
    "print(f\"Seconds elapsed : {delta}\")"
   ]
  },
  {
   "cell_type": "code",
   "execution_count": 7,
   "metadata": {},
   "outputs": [
    {
     "name": "stdout",
     "output_type": "stream",
     "text": [
      "Completed  100\n",
      "Seconds elapsed : 24.257925987243652\n"
     ]
    }
   ],
   "source": [
    "start = time.time()\n",
    "x = smiles[0]\n",
    "r = compute_descript_batches(smiles)\n",
    "print(\"Completed \", len(r))\n",
    "\n",
    "delta = time.time() - start\n",
    "print(f\"Seconds elapsed : {delta}\")"
   ]
  },
  {
   "cell_type": "code",
   "execution_count": null,
   "metadata": {},
   "outputs": [],
   "source": [
    "# Looks like there's some small gain from batching, this is most likely from avoiding the \n",
    "# module load costs"
   ]
  },
  {
   "cell_type": "code",
   "execution_count": 11,
   "metadata": {},
   "outputs": [
    {
     "name": "stdout",
     "output_type": "stream",
     "text": [
      "Completed  100\n",
      "Seconds elapsed : 25.2049822807312\n"
     ]
    }
   ],
   "source": [
    "start = time.time()\n",
    "x = smiles[0]\n",
    "r = app_compute_descript_batches(smiles).result()\n",
    "\n",
    "print(\"Completed \", len(r))\n",
    "\n",
    "delta = time.time() - start\n",
    "print(f\"Seconds elapsed : {delta}\")"
   ]
  },
  {
   "cell_type": "code",
   "execution_count": null,
   "metadata": {},
   "outputs": [],
   "source": [
    "# Cost of shipping serialized buffers appears to only add a ~4% overhead"
   ]
  }
 ],
 "metadata": {
  "kernelspec": {
   "display_name": "Python 3",
   "language": "python",
   "name": "python3"
  },
  "language_info": {
   "codemirror_mode": {
    "name": "ipython",
    "version": 3
   },
   "file_extension": ".py",
   "mimetype": "text/x-python",
   "name": "python",
   "nbconvert_exporter": "python",
   "pygments_lexer": "ipython3",
   "version": "3.6.7"
  }
 },
 "nbformat": 4,
 "nbformat_minor": 2
}
